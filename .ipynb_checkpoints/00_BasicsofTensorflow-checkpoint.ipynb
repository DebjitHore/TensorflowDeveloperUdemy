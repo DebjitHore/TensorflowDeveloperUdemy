{
 "cells": [
  {
   "cell_type": "markdown",
   "id": "0cd77dd6-de54-436e-a1c8-6dd114ea282d",
   "metadata": {},
   "source": [
    "## Basics of Tensorflow/ Tensorflow Developer Certificate."
   ]
  },
  {
   "cell_type": "code",
   "execution_count": null,
   "id": "b0fdd89b-e581-4085-9e81-331ab9270c6c",
   "metadata": {},
   "outputs": [],
   "source": []
  }
 ],
 "metadata": {
  "kernelspec": {
   "display_name": "Python 3 (ipykernel)",
   "language": "python",
   "name": "python3"
  },
  "language_info": {
   "codemirror_mode": {
    "name": "ipython",
    "version": 3
   },
   "file_extension": ".py",
   "mimetype": "text/x-python",
   "name": "python",
   "nbconvert_exporter": "python",
   "pygments_lexer": "ipython3",
   "version": "3.9.12"
  }
 },
 "nbformat": 4,
 "nbformat_minor": 5
}
