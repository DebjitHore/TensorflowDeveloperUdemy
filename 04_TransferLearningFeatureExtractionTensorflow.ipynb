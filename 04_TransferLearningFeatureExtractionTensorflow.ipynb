{
  "nbformat": 4,
  "nbformat_minor": 0,
  "metadata": {
    "colab": {
      "name": "04_TransferLearningFeatureExtractionTensorflow.ipynb",
      "provenance": [],
      "collapsed_sections": [],
      "include_colab_link": true
    },
    "kernelspec": {
      "name": "python3",
      "display_name": "Python 3"
    },
    "language_info": {
      "name": "python"
    },
    "accelerator": "GPU",
    "gpuClass": "standard"
  },
  "cells": [
    {
      "cell_type": "markdown",
      "metadata": {
        "id": "view-in-github",
        "colab_type": "text"
      },
      "source": [
        "<a href=\"https://colab.research.google.com/github/DebjitHore/TensorflowDeveloperUdemy/blob/main/04_TransferLearningFeatureExtractionTensorflow.ipynb\" target=\"_parent\"><img src=\"https://colab.research.google.com/assets/colab-badge.svg\" alt=\"Open In Colab\"/></a>"
      ]
    },
    {
      "cell_type": "code",
      "execution_count": null,
      "metadata": {
        "id": "6e6n4bUBkq0T"
      },
      "outputs": [],
      "source": [
        "import numpy as np\n",
        "import pandas as pd\n",
        "import tensorflow as tf\n",
        "import matplotlib.pyplot as plt\n",
        "from tensorflow.keras import layers\n",
        "from sklearn.model_selection import train_test_split\n",
        "from tensorflow.keras.preprocessing.image import ImageDataGenerator\n",
        "import zipfile"
      ]
    },
    {
      "cell_type": "code",
      "source": [
        "!nvidia-smi"
      ],
      "metadata": {
        "colab": {
          "base_uri": "https://localhost:8080/"
        },
        "id": "fG6raVI1mgn2",
        "outputId": "972b719d-59fe-4acf-d112-f49d303b45ab"
      },
      "execution_count": null,
      "outputs": [
        {
          "output_type": "stream",
          "name": "stdout",
          "text": [
            "Sat Jul 23 10:31:45 2022       \n",
            "+-----------------------------------------------------------------------------+\n",
            "| NVIDIA-SMI 460.32.03    Driver Version: 460.32.03    CUDA Version: 11.2     |\n",
            "|-------------------------------+----------------------+----------------------+\n",
            "| GPU  Name        Persistence-M| Bus-Id        Disp.A | Volatile Uncorr. ECC |\n",
            "| Fan  Temp  Perf  Pwr:Usage/Cap|         Memory-Usage | GPU-Util  Compute M. |\n",
            "|                               |                      |               MIG M. |\n",
            "|===============================+======================+======================|\n",
            "|   0  Tesla T4            Off  | 00000000:00:04.0 Off |                    0 |\n",
            "| N/A   40C    P8     9W /  70W |      0MiB / 15109MiB |      0%      Default |\n",
            "|                               |                      |                  N/A |\n",
            "+-------------------------------+----------------------+----------------------+\n",
            "                                                                               \n",
            "+-----------------------------------------------------------------------------+\n",
            "| Processes:                                                                  |\n",
            "|  GPU   GI   CI        PID   Type   Process name                  GPU Memory |\n",
            "|        ID   ID                                                   Usage      |\n",
            "|=============================================================================|\n",
            "|  No running processes found                                                 |\n",
            "+-----------------------------------------------------------------------------+\n"
          ]
        }
      ]
    },
    {
      "cell_type": "code",
      "source": [
        "!wget https://storage.googleapis.com/ztm_tf_course/food_vision/10_food_classes_10_percent.zip"
      ],
      "metadata": {
        "colab": {
          "base_uri": "https://localhost:8080/"
        },
        "id": "gZcIcWirpc4U",
        "outputId": "bd47b420-eefb-4a25-9307-ee509fc931b7"
      },
      "execution_count": null,
      "outputs": [
        {
          "output_type": "stream",
          "name": "stdout",
          "text": [
            "--2022-07-23 10:31:45--  https://storage.googleapis.com/ztm_tf_course/food_vision/10_food_classes_10_percent.zip\n",
            "Resolving storage.googleapis.com (storage.googleapis.com)... 74.125.68.128, 142.250.4.128, 74.125.24.128, ...\n",
            "Connecting to storage.googleapis.com (storage.googleapis.com)|74.125.68.128|:443... connected.\n",
            "HTTP request sent, awaiting response... 200 OK\n",
            "Length: 168546183 (161M) [application/zip]\n",
            "Saving to: ‘10_food_classes_10_percent.zip’\n",
            "\n",
            "10_food_classes_10_ 100%[===================>] 160.74M   270MB/s    in 0.6s    \n",
            "\n",
            "2022-07-23 10:31:46 (270 MB/s) - ‘10_food_classes_10_percent.zip’ saved [168546183/168546183]\n",
            "\n"
          ]
        }
      ]
    },
    {
      "cell_type": "code",
      "source": [
        "zip_ref= zipfile.ZipFile(\"/content/10_food_classes_10_percent.zip\")\n",
        "zip_ref.extractall()\n",
        "zip_ref.close()"
      ],
      "metadata": {
        "id": "jRhX1JTSprm0"
      },
      "execution_count": null,
      "outputs": []
    },
    {
      "cell_type": "code",
      "source": [
        "import os\n",
        "\n",
        "#Walk thorugh data directory\n",
        "\n",
        "for dirpath, dirnames, filenames in os.walk(\"/content/10_food_classes_10_percent\"):\n",
        "  print(f\"There are {len(dirnames)} directories and {len(filenames)} images in '{dirpath}'.'\")"
      ],
      "metadata": {
        "colab": {
          "base_uri": "https://localhost:8080/"
        },
        "id": "fR9dUz0Fp--E",
        "outputId": "6dcf992a-84a5-4994-ef6c-096fcf2d836a"
      },
      "execution_count": null,
      "outputs": [
        {
          "output_type": "stream",
          "name": "stdout",
          "text": [
            "There are 2 directories and 0 images in '/content/10_food_classes_10_percent'.'\n",
            "There are 10 directories and 0 images in '/content/10_food_classes_10_percent/train'.'\n",
            "There are 0 directories and 75 images in '/content/10_food_classes_10_percent/train/ice_cream'.'\n",
            "There are 0 directories and 75 images in '/content/10_food_classes_10_percent/train/sushi'.'\n",
            "There are 0 directories and 75 images in '/content/10_food_classes_10_percent/train/hamburger'.'\n",
            "There are 0 directories and 75 images in '/content/10_food_classes_10_percent/train/ramen'.'\n",
            "There are 0 directories and 75 images in '/content/10_food_classes_10_percent/train/chicken_curry'.'\n",
            "There are 0 directories and 75 images in '/content/10_food_classes_10_percent/train/steak'.'\n",
            "There are 0 directories and 75 images in '/content/10_food_classes_10_percent/train/pizza'.'\n",
            "There are 0 directories and 75 images in '/content/10_food_classes_10_percent/train/chicken_wings'.'\n",
            "There are 0 directories and 75 images in '/content/10_food_classes_10_percent/train/fried_rice'.'\n",
            "There are 0 directories and 75 images in '/content/10_food_classes_10_percent/train/grilled_salmon'.'\n",
            "There are 10 directories and 0 images in '/content/10_food_classes_10_percent/test'.'\n",
            "There are 0 directories and 250 images in '/content/10_food_classes_10_percent/test/ice_cream'.'\n",
            "There are 0 directories and 250 images in '/content/10_food_classes_10_percent/test/sushi'.'\n",
            "There are 0 directories and 250 images in '/content/10_food_classes_10_percent/test/hamburger'.'\n",
            "There are 0 directories and 250 images in '/content/10_food_classes_10_percent/test/ramen'.'\n",
            "There are 0 directories and 250 images in '/content/10_food_classes_10_percent/test/chicken_curry'.'\n",
            "There are 0 directories and 250 images in '/content/10_food_classes_10_percent/test/steak'.'\n",
            "There are 0 directories and 250 images in '/content/10_food_classes_10_percent/test/pizza'.'\n",
            "There are 0 directories and 250 images in '/content/10_food_classes_10_percent/test/chicken_wings'.'\n",
            "There are 0 directories and 250 images in '/content/10_food_classes_10_percent/test/fried_rice'.'\n",
            "There are 0 directories and 250 images in '/content/10_food_classes_10_percent/test/grilled_salmon'.'\n"
          ]
        }
      ]
    },
    {
      "cell_type": "markdown",
      "source": [
        "## Create data loaders (preparing the data)\n",
        "\n",
        "We'll use the `ImageDataGenerator` class to load in our images in batches"
      ],
      "metadata": {
        "id": "uUBo36D2qrmb"
      }
    },
    {
      "cell_type": "code",
      "source": [
        "IMAGE_SHAPE= (224,224)\n",
        "BATCH_SIZE=32\n",
        "\n",
        "EPOCHS=10\n",
        "\n",
        "train_dir= '/content/10_food_classes_10_percent/train'\n",
        "test_dir= '/content/10_food_classes_10_percent/test'\n",
        "\n",
        "train_datagen= ImageDataGenerator(rescale= 1/255.)\n",
        "test_datagen= ImageDataGenerator(rescale= 1/255.)\n",
        "\n",
        "print(\"Training Images\")\n",
        "\n",
        "train_data_10_percent= train_datagen.flow_from_directory(train_dir,\n",
        "                                                         target_size= IMAGE_SHAPE,\n",
        "                                                         batch_size= BATCH_SIZE,\n",
        "                                                         class_mode= \"categorical\")\n",
        "\n",
        "test_data_10_percent= test_datagen.flow_from_directory(test_dir,\n",
        "                                                         target_size= IMAGE_SHAPE,\n",
        "                                                         batch_size= BATCH_SIZE,\n",
        "                                                         class_mode= \"categorical\")"
      ],
      "metadata": {
        "colab": {
          "base_uri": "https://localhost:8080/"
        },
        "id": "KJZCU6nUrihk",
        "outputId": "df21650e-a6d8-4ff2-9cf6-bdeb9f47c8f3"
      },
      "execution_count": null,
      "outputs": [
        {
          "output_type": "stream",
          "name": "stdout",
          "text": [
            "Training Images\n",
            "Found 750 images belonging to 10 classes.\n",
            "Found 2500 images belonging to 10 classes.\n"
          ]
        }
      ]
    },
    {
      "cell_type": "markdown",
      "source": [
        "## Introducing Callbacks (things to learn whilst our model trains)\n",
        "\n",
        "* Callback is an extra functionality\n",
        "* Tracking experiments with TensorBoard callback\n",
        "* Model checkpoint with ModelCheckpoint callback\n",
        "* Stopping a model from training too long and overfitting through EarlyStopping callback"
      ],
      "metadata": {
        "id": "mIGVtt4xtVyS"
      }
    },
    {
      "cell_type": "code",
      "source": [
        "# Create TensorBoard callback (functionized because we need to create a new one for each experiment)\n",
        "\n",
        "import datetime\n",
        "\n",
        "def create_tensorboard_callback(dir_name, experiment_name):\n",
        "  log_dir= dir_name+\"/\" + experiment_name + \"/\" + datetime.datetime.now().strftime(\"%Y%m%d-%H%\")\n",
        "  tensorboard_callback= tf.keras.callbacks.TensorBoard(log_dir=log_dir)\n",
        "  print(f\"Saving TensorBoard log files to: {log_dir}\")\n",
        "  return tensorboard_callback"
      ],
      "metadata": {
        "id": "Zzpko5ksyeUR"
      },
      "execution_count": null,
      "outputs": []
    },
    {
      "cell_type": "markdown",
      "source": [
        "## Creating models with Tensorflow Hub\n",
        "\n",
        "Access pretrained models at : https://www.tensorflow.org/hub OR tfhub.dev\n",
        "\n",
        "* Browsing the Tensorflow Hub page and sorting for image classification, we found the following feature vector model link : https://tfhub.dev/tensorflow/efficientnet/b0/feature-vector/1"
      ],
      "metadata": {
        "id": "8cKvAT1v0u-W"
      }
    },
    {
      "cell_type": "code",
      "source": [
        "!pip install --upgrade tensorflow_hub\n",
        "\n",
        "import tensorflow_hub as hub"
      ],
      "metadata": {
        "id": "bcwfaxqZ1MO_",
        "colab": {
          "base_uri": "https://localhost:8080/"
        },
        "outputId": "cb51c1fc-2b43-46dd-be9d-8c8324cdf17b"
      },
      "execution_count": null,
      "outputs": [
        {
          "output_type": "stream",
          "name": "stdout",
          "text": [
            "Looking in indexes: https://pypi.org/simple, https://us-python.pkg.dev/colab-wheels/public/simple/\n",
            "Requirement already satisfied: tensorflow_hub in /usr/local/lib/python3.7/dist-packages (0.12.0)\n",
            "Requirement already satisfied: numpy>=1.12.0 in /usr/local/lib/python3.7/dist-packages (from tensorflow_hub) (1.21.6)\n",
            "Requirement already satisfied: protobuf>=3.8.0 in /usr/local/lib/python3.7/dist-packages (from tensorflow_hub) (3.17.3)\n",
            "Requirement already satisfied: six>=1.9 in /usr/local/lib/python3.7/dist-packages (from protobuf>=3.8.0->tensorflow_hub) (1.15.0)\n"
          ]
        }
      ]
    },
    {
      "cell_type": "code",
      "source": [
        "# We are comparing following two models\n",
        "\n",
        "resnet_url= \"https://tfhub.dev/google/imagenet/resnet_v2_50/feature_vector/4\"\n",
        "\n",
        "efficientnet_url= \"https://tfhub.dev/tensorflow/efficientnet/b0/feature-vector/1\""
      ],
      "metadata": {
        "id": "vLF94tmOL9_i"
      },
      "execution_count": null,
      "outputs": []
    },
    {
      "cell_type": "code",
      "source": [
        "# create_model() function to create a model from a URL\n",
        "\n",
        "def create_model(model_url, num_classes=10):\n",
        "  \"\"\"\n",
        "  Takes a tensorflow hub url and create a keras sequential model with it \n",
        "\n",
        "  Args:\n",
        "   model_url(str): Tensorflow Hub feature extraction URL\n",
        "   num_classes(int): Number of output neurons in the output layer, should be \n",
        "   equal to number of target classes, default 10\n",
        "\n",
        "   Returns:\n",
        "   An uncompiled Keras Sequential model with model_url as feature extractor layer \n",
        "   and Dense output layer with num_classes output neurons\n",
        "  \"\"\"\n",
        "  #Download the pretrained model & save it\n",
        "\n",
        "  feature_extractor_layer= hub.KerasLayer(model_url,\n",
        "                                          trainable=False, #freeze the pretrained patters\n",
        "                                          name= \"feature_Extraction_Layer\",\n",
        "                                          input_shape= IMAGE_SHAPE+(3,))\n",
        "  \n",
        "  model= tf.keras.Sequential([\n",
        "                              feature_extractor_layer,\n",
        "                              layers.Dense(num_classes, activation='softmax', name= \"output_layer\")\n",
        "\n",
        "  ])\n",
        "\n",
        "  return model\n",
        "\n",
        "\n",
        "\n",
        "\n",
        "\n"
      ],
      "metadata": {
        "id": "puEIlowCQgeY"
      },
      "execution_count": null,
      "outputs": []
    },
    {
      "cell_type": "markdown",
      "source": [
        "## Creating and testing ResNet Tensorflow Hub Feature Extraction model\n"
      ],
      "metadata": {
        "id": "Gznbk2utUURk"
      }
    },
    {
      "cell_type": "code",
      "source": [
        "resnet_model= create_model(resnet_url, \n",
        "                           num_classes=train_data_10_percent.num_classes)"
      ],
      "metadata": {
        "id": "Ba8iVnOaUfuE"
      },
      "execution_count": null,
      "outputs": []
    },
    {
      "cell_type": "code",
      "source": [
        "resnet_model.summary()"
      ],
      "metadata": {
        "colab": {
          "base_uri": "https://localhost:8080/"
        },
        "id": "o4vaKM2aU53W",
        "outputId": "3fbc3b34-9d80-4dab-bd49-166f570a2883"
      },
      "execution_count": null,
      "outputs": [
        {
          "output_type": "stream",
          "name": "stdout",
          "text": [
            "Model: \"sequential\"\n",
            "_________________________________________________________________\n",
            " Layer (type)                Output Shape              Param #   \n",
            "=================================================================\n",
            " feature_Extraction_Layer (K  (None, 2048)             23564800  \n",
            " erasLayer)                                                      \n",
            "                                                                 \n",
            " output_layer (Dense)        (None, 10)                20490     \n",
            "                                                                 \n",
            "=================================================================\n",
            "Total params: 23,585,290\n",
            "Trainable params: 20,490\n",
            "Non-trainable params: 23,564,800\n",
            "_________________________________________________________________\n"
          ]
        }
      ]
    },
    {
      "cell_type": "markdown",
      "source": [
        "### Compile our ResNet model"
      ],
      "metadata": {
        "id": "x6XmmPVkVCoE"
      }
    },
    {
      "cell_type": "code",
      "source": [
        "resnet_model.compile(loss= tf.keras.losses.categorical_crossentropy,\n",
        "                     optimizer= tf.keras.optimizers.Adam(),\n",
        "                     metrics= ['accuracy'])\n"
      ],
      "metadata": {
        "id": "K4Nwm4ZzVKoU"
      },
      "execution_count": null,
      "outputs": []
    },
    {
      "cell_type": "code",
      "source": [
        "resnet_history= resnet_model.fit(train_data_10_percent, epochs= 5, steps_per_epoch=len(train_data_10_percent),\n",
        "                 validation_data= test_data_10_percent, validation_steps= len(test_data_10_percent),\n",
        "                 callbacks=[ create_tensorboard_callback(dir_name=\"tensorflow_hub\",\n",
        "                                                         experiment_name=\"resnet_50_V2\")] )"
      ],
      "metadata": {
        "colab": {
          "base_uri": "https://localhost:8080/"
        },
        "id": "g-neGXwGVf80",
        "outputId": "9f7574af-d80f-4177-d8e2-a016c36bd88e"
      },
      "execution_count": null,
      "outputs": [
        {
          "output_type": "stream",
          "name": "stdout",
          "text": [
            "Saving TensorBoard log files to: tensorflow_hub/resnet_50_V2/20220723-10%\n",
            "Epoch 1/5\n",
            "24/24 [==============================] - 32s 734ms/step - loss: 1.8785 - accuracy: 0.3880 - val_loss: 1.1293 - val_accuracy: 0.6460\n",
            "Epoch 2/5\n",
            "24/24 [==============================] - 15s 660ms/step - loss: 0.8811 - accuracy: 0.7333 - val_loss: 0.8176 - val_accuracy: 0.7444\n",
            "Epoch 3/5\n",
            "24/24 [==============================] - 16s 685ms/step - loss: 0.6176 - accuracy: 0.8227 - val_loss: 0.7272 - val_accuracy: 0.7736\n",
            "Epoch 4/5\n",
            "24/24 [==============================] - 15s 652ms/step - loss: 0.4678 - accuracy: 0.8800 - val_loss: 0.6854 - val_accuracy: 0.7836\n",
            "Epoch 5/5\n",
            "24/24 [==============================] - 15s 658ms/step - loss: 0.3801 - accuracy: 0.9173 - val_loss: 0.6744 - val_accuracy: 0.7812\n"
          ]
        }
      ]
    },
    {
      "cell_type": "code",
      "source": [
        "# Plot loss curves\n",
        "\n",
        "def plot_loss_curves(history):\n",
        "  \"\"\"\n",
        "  Returns separate loss curves for training and validation metrics\n",
        "\n",
        "  Args:\n",
        "  model training history: Tensorflow history object\n",
        "\n",
        "  Returns:\n",
        "  Plots of training/validation loss and accuracy metrics\n",
        "\n",
        "  \"\"\"\n",
        "  loss= history.history[\"loss\"]\n",
        "  val_loss= history.history[\"val_loss\"]\n",
        "\n",
        "  accuracy= history.history[\"accuracy\"]\n",
        "  val_accuracy= history.history[\"val_accuracy\"]\n",
        "\n",
        "  epochs= range(len(loss))\n",
        "\n",
        "  #Plot loss\n",
        "  plt.plot(epochs, loss, label=\"training_loss\")\n",
        "  plt.plot(epochs, val_loss, label=\"validation loss\")\n",
        "  plt.title(\"Loss\")\n",
        "  plt.xlabel(\"Epochs\")\n",
        "\n",
        "  plt.legend()\n",
        "\n",
        "  plt.figure()\n",
        "  plt.plot(epochs, accuracy, label=\"training_accuracy\")\n",
        "  plt.plot(epochs, val_accuracy, label=\"validation accuracy\")\n",
        "  plt.title(\"Accuracy\")\n",
        "  plt.xlabel(\"Epochs\")\n",
        "  plt.legend()"
      ],
      "metadata": {
        "id": "Fsefylz8WpXW"
      },
      "execution_count": null,
      "outputs": []
    },
    {
      "cell_type": "code",
      "source": [
        "plot_loss_curves(resnet_history)"
      ],
      "metadata": {
        "colab": {
          "base_uri": "https://localhost:8080/",
          "height": 573
        },
        "id": "0UjeF02zYtJm",
        "outputId": "cab5fbb0-43fa-4724-800d-424451590949"
      },
      "execution_count": null,
      "outputs": [
        {
          "output_type": "display_data",
          "data": {
            "text/plain": [
              "<Figure size 432x288 with 1 Axes>"
            ],
            "image/png": "[encoded data removed]"
          },
          "metadata": {
            "needs_background": "light"
          }
        },
        {
          "output_type": "display_data",
          "data": {
            "text/plain": [
              "<Figure size 432x288 with 1 Axes>"
            ],
            "image/png": "[encoded data removed]"
          },
          "metadata": {
            "needs_background": "light"
          }
        }
      ]
    },
    {
      "cell_type": "markdown",
      "source": [
        "## Creating and testing Efficient B0 Tensorflow Hub Feature Extraction model\n"
      ],
      "metadata": {
        "id": "rUVDg8CyaMgX"
      }
    },
    {
      "cell_type": "code",
      "source": [
        "efficientnet_model= create_model(efficientnet_url, num_classes= train_data_10_percent.num_classes)"
      ],
      "metadata": {
        "id": "Zdb0wuE8f7N4"
      },
      "execution_count": null,
      "outputs": []
    },
    {
      "cell_type": "code",
      "source": [
        "efficientnet_model.compile(loss= tf.keras.losses.categorical_crossentropy,\n",
        "                           optimizer= tf.keras.optimizers.Adam(),\n",
        "                           metrics= [\"accuracy\"])\n",
        "\n",
        "efficientnet_history= efficientnet_model.fit(train_data_10_percent, epochs=EPOCHS, steps_per_epoch=len(train_data_10_percent),\n",
        "                       validation_data= test_data_10_percent, validation_steps=len(test_data_10_percent),\n",
        "                      callbacks=[ create_tensorboard_callback(dir_name=\"tensorflow_hub\",\n",
        "                                                         experiment_name=\"resnet_50_V2\")])"
      ],
      "metadata": {
        "colab": {
          "base_uri": "https://localhost:8080/"
        },
        "id": "v0JqXoR2g3u5",
        "outputId": "da94b26d-6a7d-474b-b66a-d5b52f2aebe3"
      },
      "execution_count": null,
      "outputs": [
        {
          "output_type": "stream",
          "name": "stdout",
          "text": [
            "Saving TensorBoard log files to: tensorflow_hub/resnet_50_V2/20220723-10%\n",
            "Epoch 1/10\n",
            "24/24 [==============================] - 25s 703ms/step - loss: 1.8301 - accuracy: 0.4107 - val_loss: 1.2888 - val_accuracy: 0.7356\n",
            "Epoch 2/10\n",
            "24/24 [==============================] - 16s 666ms/step - loss: 1.0579 - accuracy: 0.7613 - val_loss: 0.8648 - val_accuracy: 0.8132\n",
            "Epoch 3/10\n",
            "24/24 [==============================] - 15s 636ms/step - loss: 0.7550 - accuracy: 0.8440 - val_loss: 0.6932 - val_accuracy: 0.8420\n",
            "Epoch 4/10\n",
            "24/24 [==============================] - 15s 636ms/step - loss: 0.6052 - accuracy: 0.8733 - val_loss: 0.6094 - val_accuracy: 0.8516\n",
            "Epoch 5/10\n",
            "24/24 [==============================] - 15s 633ms/step - loss: 0.5109 - accuracy: 0.8960 - val_loss: 0.5528 - val_accuracy: 0.8632\n",
            "Epoch 6/10\n",
            "24/24 [==============================] - 15s 635ms/step - loss: 0.4429 - accuracy: 0.9133 - val_loss: 0.5195 - val_accuracy: 0.8656\n",
            "Epoch 7/10\n",
            "24/24 [==============================] - 15s 664ms/step - loss: 0.3896 - accuracy: 0.9267 - val_loss: 0.4925 - val_accuracy: 0.8664\n",
            "Epoch 8/10\n",
            "24/24 [==============================] - 15s 632ms/step - loss: 0.3470 - accuracy: 0.9400 - val_loss: 0.4730 - val_accuracy: 0.8692\n",
            "Epoch 9/10\n",
            "24/24 [==============================] - 15s 630ms/step - loss: 0.3115 - accuracy: 0.9453 - val_loss: 0.4557 - val_accuracy: 0.8724\n",
            "Epoch 10/10\n",
            "24/24 [==============================] - 15s 628ms/step - loss: 0.2821 - accuracy: 0.9547 - val_loss: 0.4447 - val_accuracy: 0.8704\n"
          ]
        }
      ]
    },
    {
      "cell_type": "code",
      "source": [
        "plot_loss_curves(efficientnet_history)"
      ],
      "metadata": {
        "id": "-iEHJ31xhp35",
        "colab": {
          "base_uri": "https://localhost:8080/",
          "height": 573
        },
        "outputId": "e0128cec-0ae8-42f6-f8b0-2ee675e882a1"
      },
      "execution_count": null,
      "outputs": [
        {
          "output_type": "display_data",
          "data": {
            "text/plain": [
              "<Figure size 432x288 with 1 Axes>"
            ],
            "image/png": "[encoded data removed]"
          },
          "metadata": {
            "needs_background": "light"
          }
        },
        {
          "output_type": "display_data",
          "data": {
            "text/plain": [
              "<Figure size 432x288 with 1 Axes>"
            ],
            "image/png": "[encoded data removed]"
          },
          "metadata": {
            "needs_background": "light"
          }
        }
      ]
    },
    {
      "cell_type": "markdown",
      "source": [
        "## Different types of transfer learning\n",
        "* \"As is\" transfer learning- use existing model with no changes\n",
        "* Feature extraction- prelearned patterns from an existing model\n",
        "* Fine tuning transfer learning- use prelearned patterns of an existing models and fine tune many or all underlying layers\n",
        "\n",
        "\n"
      ],
      "metadata": {
        "id": "lre5P9JSRab1"
      }
    },
    {
      "cell_type": "code",
      "source": [
        "len(efficientnet_model.layers[0].weights)"
      ],
      "metadata": {
        "colab": {
          "base_uri": "https://localhost:8080/"
        },
        "id": "Klk9foSTn7PC",
        "outputId": "a86dbdb0-58e9-4d44-90a8-cf88bd1fd37b"
      },
      "execution_count": null,
      "outputs": [
        {
          "output_type": "execute_result",
          "data": {
            "text/plain": [
              "309"
            ]
          },
          "metadata": {},
          "execution_count": 22
        }
      ]
    },
    {
      "cell_type": "markdown",
      "source": [
        "## Comparing our results with TensorBoard"
      ],
      "metadata": {
        "id": "L7gksot8oiSG"
      }
    },
    {
      "cell_type": "code",
      "source": [
        "!pip install -U tensorboard"
      ],
      "metadata": {
        "colab": {
          "base_uri": "https://localhost:8080/"
        },
        "id": "uZscBcT0pu9P",
        "outputId": "342baa11-836b-4fbf-b33a-343eb2481e85"
      },
      "execution_count": null,
      "outputs": [
        {
          "output_type": "stream",
          "name": "stdout",
          "text": [
            "Looking in indexes: https://pypi.org/simple, https://us-python.pkg.dev/colab-wheels/public/simple/\n",
            "Requirement already satisfied: tensorboard in /usr/local/lib/python3.7/dist-packages (2.9.1)\n",
            "Requirement already satisfied: requests<3,>=2.21.0 in /usr/local/lib/python3.7/dist-packages (from tensorboard) (2.23.0)\n",
            "Requirement already satisfied: google-auth<3,>=1.6.3 in /usr/local/lib/python3.7/dist-packages (from tensorboard) (1.35.0)\n",
            "Requirement already satisfied: protobuf<3.20,>=3.9.2 in /usr/local/lib/python3.7/dist-packages (from tensorboard) (3.17.3)\n",
            "Requirement already satisfied: absl-py>=0.4 in /usr/local/lib/python3.7/dist-packages (from tensorboard) (1.2.0)\n",
            "Requirement already satisfied: setuptools>=41.0.0 in /usr/local/lib/python3.7/dist-packages (from tensorboard) (57.4.0)\n",
            "Requirement already satisfied: google-auth-oauthlib<0.5,>=0.4.1 in /usr/local/lib/python3.7/dist-packages (from tensorboard) (0.4.6)\n",
            "Requirement already satisfied: wheel>=0.26 in /usr/local/lib/python3.7/dist-packages (from tensorboard) (0.37.1)\n",
            "Requirement already satisfied: grpcio>=1.24.3 in /usr/local/lib/python3.7/dist-packages (from tensorboard) (1.47.0)\n",
            "Requirement already satisfied: werkzeug>=1.0.1 in /usr/local/lib/python3.7/dist-packages (from tensorboard) (1.0.1)\n",
            "Requirement already satisfied: numpy>=1.12.0 in /usr/local/lib/python3.7/dist-packages (from tensorboard) (1.21.6)\n",
            "Requirement already satisfied: tensorboard-plugin-wit>=1.6.0 in /usr/local/lib/python3.7/dist-packages (from tensorboard) (1.8.1)\n",
            "Requirement already satisfied: tensorboard-data-server<0.7.0,>=0.6.0 in /usr/local/lib/python3.7/dist-packages (from tensorboard) (0.6.1)\n",
            "Requirement already satisfied: markdown>=2.6.8 in /usr/local/lib/python3.7/dist-packages (from tensorboard) (3.4.1)\n",
            "Requirement already satisfied: cachetools<5.0,>=2.0.0 in /usr/local/lib/python3.7/dist-packages (from google-auth<3,>=1.6.3->tensorboard) (4.2.4)\n",
            "Requirement already satisfied: pyasn1-modules>=0.2.1 in /usr/local/lib/python3.7/dist-packages (from google-auth<3,>=1.6.3->tensorboard) (0.2.8)\n",
            "Requirement already satisfied: six>=1.9.0 in /usr/local/lib/python3.7/dist-packages (from google-auth<3,>=1.6.3->tensorboard) (1.15.0)\n",
            "Requirement already satisfied: rsa<5,>=3.1.4 in /usr/local/lib/python3.7/dist-packages (from google-auth<3,>=1.6.3->tensorboard) (4.8)\n",
            "Requirement already satisfied: requests-oauthlib>=0.7.0 in /usr/local/lib/python3.7/dist-packages (from google-auth-oauthlib<0.5,>=0.4.1->tensorboard) (1.3.1)\n",
            "Requirement already satisfied: importlib-metadata>=4.4 in /usr/local/lib/python3.7/dist-packages (from markdown>=2.6.8->tensorboard) (4.12.0)\n",
            "Requirement already satisfied: typing-extensions>=3.6.4 in /usr/local/lib/python3.7/dist-packages (from importlib-metadata>=4.4->markdown>=2.6.8->tensorboard) (4.1.1)\n",
            "Requirement already satisfied: zipp>=0.5 in /usr/local/lib/python3.7/dist-packages (from importlib-metadata>=4.4->markdown>=2.6.8->tensorboard) (3.8.1)\n",
            "Requirement already satisfied: pyasn1<0.5.0,>=0.4.6 in /usr/local/lib/python3.7/dist-packages (from pyasn1-modules>=0.2.1->google-auth<3,>=1.6.3->tensorboard) (0.4.8)\n",
            "Requirement already satisfied: chardet<4,>=3.0.2 in /usr/local/lib/python3.7/dist-packages (from requests<3,>=2.21.0->tensorboard) (3.0.4)\n",
            "Requirement already satisfied: idna<3,>=2.5 in /usr/local/lib/python3.7/dist-packages (from requests<3,>=2.21.0->tensorboard) (2.10)\n",
            "Requirement already satisfied: urllib3!=1.25.0,!=1.25.1,<1.26,>=1.21.1 in /usr/local/lib/python3.7/dist-packages (from requests<3,>=2.21.0->tensorboard) (1.24.3)\n",
            "Requirement already satisfied: certifi>=2017.4.17 in /usr/local/lib/python3.7/dist-packages (from requests<3,>=2.21.0->tensorboard) (2022.6.15)\n",
            "Requirement already satisfied: oauthlib>=3.0.0 in /usr/local/lib/python3.7/dist-packages (from requests-oauthlib>=0.7.0->google-auth-oauthlib<0.5,>=0.4.1->tensorboard) (3.2.0)\n"
          ]
        }
      ]
    },
    {
      "cell_type": "code",
      "source": [
        "!tensorboard dev upload --logdir ./tensorflow_hub/ \\\n",
        "--name \"EfficientNetB0 vs ResNet50V2\" \\\n",
        "--description \"Comparing two different TF Hub feature extraction model architectures\" \\\n",
        "--one_shot"
      ],
      "metadata": {
        "colab": {
          "base_uri": "https://localhost:8080/"
        },
        "id": "CgMMCsM9p66g",
        "outputId": "1ea40998-7087-4ef0-992f-7a3d1c4e9d28"
      },
      "execution_count": null,
      "outputs": [
        {
          "output_type": "stream",
          "name": "stdout",
          "text": [
            "\n",
            "***** TensorBoard Uploader *****\n",
            "\n",
            "This will upload your TensorBoard logs to https://tensorboard.dev/ from\n",
            "the following directory:\n",
            "\n",
            "./tensorflow_hub/\n",
            "\n",
            "This TensorBoard will be visible to everyone. Do not upload sensitive\n",
            "data.\n",
            "\n",
            "Your use of this service is subject to Google's Terms of Service\n",
            "<https://policies.google.com/terms> and Privacy Policy\n",
            "<https://policies.google.com/privacy>, and TensorBoard.dev's Terms of Service\n",
            "<https://tensorboard.dev/policy/terms/>.\n",
            "\n",
            "This notice will not be shown again while you are logged into the uploader.\n",
            "To log out, run `tensorboard dev auth revoke`.\n",
            "\n",
            "Continue? (yes/NO) yes\n",
            "\n",
            "Please visit this URL to authorize this application: https://accounts.google.com/o/oauth2/auth?response_type=code&client_id=373649185512-8v619h5kft38l4456nm2dj4ubeqsrvh6.apps.googleusercontent.com&redirect_uri=urn%3Aietf%3Awg%3Aoauth%3A2.0%3Aoob&scope=openid+https%3A%2F%2Fwww.googleapis.com%2Fauth%2Fuserinfo.email&state=9kcRvlckaJFhTmIlPdQ1fJyaHmjhls&prompt=consent&access_type=offline\n",
            "Enter the authorization code: 4/1AdQt8qiji9bvLXpMf7UesLiQHBMYhfa72MoP5Q9rgY_JxByJbfAnl_1Elh4\n",
            "\n",
            "\n",
            "New experiment created. View your TensorBoard at: https://tensorboard.dev/experiment/Nw6LRWa1QxmLC8S3Jz7RUQ/\n",
            "\n",
            "\u001b[1m[2022-07-23T10:49:51]\u001b[0m Started scanning logdir.\n",
            "E0723 10:49:55.334754 140642767320960 uploader.py:1122] Attempted to re-upload existing blob.  Skipping.\n",
            "\u001b[1m[2022-07-23T10:49:55]\u001b[0m Total uploaded: 90 scalars, 0 tensors, 1 binary objects (1.8 MB)\n",
            "\u001b[90mTotal skipped: 1 binary objects (3.9 MB)\n",
            "\u001b[0m\u001b[1m[2022-07-23T10:49:55]\u001b[0m Done scanning logdir.\n",
            "\n",
            "\n",
            "Done. View your TensorBoard at https://tensorboard.dev/experiment/Nw6LRWa1QxmLC8S3Jz7RUQ/\n"
          ]
        }
      ]
    },
    {
      "cell_type": "markdown",
      "source": [
        "Tensorboard results uploaded at : https://tensorboard.dev/experiment/Nw6LRWa1QxmLC8S3Jz7RUQ/#scalars\n"
      ],
      "metadata": {
        "id": "g_KQYwGHqf1F"
      }
    },
    {
      "cell_type": "code",
      "source": [
        "#List of experiments\n",
        "\n",
        "!tensorboard dev list"
      ],
      "metadata": {
        "colab": {
          "base_uri": "https://localhost:8080/"
        },
        "id": "4T6BqqfLsXyh",
        "outputId": "fb8cab73-8956-4767-a2fc-9e23a8d7eaaf"
      },
      "execution_count": null,
      "outputs": [
        {
          "output_type": "stream",
          "name": "stdout",
          "text": [
            "https://tensorboard.dev/experiment/Nw6LRWa1QxmLC8S3Jz7RUQ/\n",
            "\tName                 EfficientNetB0 vs ResNet50V2\n",
            "\tDescription          Comparing two different TF Hub feature extraction model architectures\n",
            "\tId                   Nw6LRWa1QxmLC8S3Jz7RUQ\n",
            "\tCreated              2022-07-23 10:49:51 (5 minutes ago)\n",
            "\tUpdated              2022-07-23 10:49:55 (5 minutes ago)\n",
            "\tRuns                 2\n",
            "\tTags                 5\n",
            "\tScalars              90\n",
            "\tTensor bytes         0\n",
            "\tBinary object bytes  1843574\n",
            "Total: 1 experiment(s)\n"
          ]
        }
      ]
    },
    {
      "cell_type": "code",
      "source": [
        ""
      ],
      "metadata": {
        "id": "oYouYf3aseRS"
      },
      "execution_count": null,
      "outputs": []
    }
  ]
}